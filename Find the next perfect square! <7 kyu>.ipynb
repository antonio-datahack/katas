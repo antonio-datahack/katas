{
 "cells": [
  {
   "cell_type": "markdown",
   "id": "planned-partnership",
   "metadata": {},
   "source": [
    "[Link to Codewars exercise](https://www.codewars.com/kata/56269eb78ad2e4ced1000013/train/python)"
   ]
  },
  {
   "cell_type": "markdown",
   "id": "relative-protocol",
   "metadata": {},
   "source": [
    "### Find the next perfect square!\n",
    "\n",
    "You might know some pretty large perfect squares. But what about the NEXT one?\n",
    "\n",
    "Complete the findNextSquare method that finds the next integral perfect square after the one passed as a parameter. Recall that an integral perfect square is an integer n such that sqrt(n) is also an integer.\n",
    "\n",
    "If the parameter is itself not a perfect square then -1 should be returned. You may assume the parameter is non-negative.\n",
    "\n",
    "Examples:\n",
    "\n",
    "+ findNextSquare(121) --> returns 144\n",
    "+ indNextSquare(625) --> returns 676\n",
    "+ findNextSquare(114) --> returns -1 since 114 is not a perfect"
   ]
  },
  {
   "cell_type": "code",
   "execution_count": 5,
   "id": "purple-final",
   "metadata": {},
   "outputs": [],
   "source": [
    "import math \n",
    "raiz = 0\n",
    "def find_next_square(sq):\n",
    "    raiz=math.sqrt(sq)\n",
    "    x = (int(raiz) - raiz)\n",
    "    if x == 0:\n",
    "     return (raiz+1)**2\n",
    "    else:\n",
    "        return -1"
   ]
  },
  {
   "cell_type": "code",
   "execution_count": 16,
   "id": "starting-photography",
   "metadata": {},
   "outputs": [
    {
     "data": {
      "text/plain": [
       "144.0"
      ]
     },
     "execution_count": 16,
     "metadata": {},
     "output_type": "execute_result"
    }
   ],
   "source": [
    "find_next_square(121)\n"
   ]
  },
  {
   "cell_type": "code",
   "execution_count": 9,
   "id": "combined-formula",
   "metadata": {},
   "outputs": [
    {
     "data": {
      "text/plain": [
       "676.0"
      ]
     },
     "execution_count": 9,
     "metadata": {},
     "output_type": "execute_result"
    }
   ],
   "source": [
    "find_next_square(625)"
   ]
  },
  {
   "cell_type": "code",
   "execution_count": 10,
   "id": "southwest-wealth",
   "metadata": {},
   "outputs": [
    {
     "data": {
      "text/plain": [
       "320356.0"
      ]
     },
     "execution_count": 10,
     "metadata": {},
     "output_type": "execute_result"
    }
   ],
   "source": [
    "find_next_square(319225)"
   ]
  },
  {
   "cell_type": "code",
   "execution_count": 11,
   "id": "chinese-warren",
   "metadata": {},
   "outputs": [
    {
     "data": {
      "text/plain": [
       "15241630849.0"
      ]
     },
     "execution_count": 11,
     "metadata": {},
     "output_type": "execute_result"
    }
   ],
   "source": [
    "find_next_square(15241383936)"
   ]
  },
  {
   "cell_type": "markdown",
   "id": "damaged-jurisdiction",
   "metadata": {},
   "source": [
    "-------"
   ]
  },
  {
   "cell_type": "markdown",
   "id": "specified-milton",
   "metadata": {},
   "source": [
    "#### the next ones should return -1"
   ]
  },
  {
   "cell_type": "code",
   "execution_count": 12,
   "id": "duplicate-shadow",
   "metadata": {},
   "outputs": [
    {
     "data": {
      "text/plain": [
       "-1"
      ]
     },
     "execution_count": 12,
     "metadata": {},
     "output_type": "execute_result"
    }
   ],
   "source": [
    "find_next_square(155)"
   ]
  },
  {
   "cell_type": "code",
   "execution_count": 13,
   "id": "curious-correspondence",
   "metadata": {},
   "outputs": [
    {
     "data": {
      "text/plain": [
       "-1"
      ]
     },
     "execution_count": 13,
     "metadata": {},
     "output_type": "execute_result"
    }
   ],
   "source": [
    "find_next_square(342786627)"
   ]
  },
  {
   "cell_type": "markdown",
   "id": "level-proxy",
   "metadata": {},
   "source": [
    "------"
   ]
  },
  {
   "cell_type": "markdown",
   "id": "central-target",
   "metadata": {},
   "source": [
    "### My solution:"
   ]
  },
  {
   "cell_type": "markdown",
   "id": "special-zoning",
   "metadata": {},
   "source": [
    "#### When we get the square of some number we get also a float. If we convert it to an integer we get the same value if the float doesn't have other decimals than zero. If the float has decimals other than zero the int function will cut the decimal part and take just the integer. In order to check whether the float had decimals other than zero we convert the float to an integer and then subtract the float from the integer. If the result is not zero the float had decimals other than zero and thus the number has no perfect square."
   ]
  },
  {
   "cell_type": "markdown",
   "id": "sixth-favor",
   "metadata": {},
   "source": [
    "-------"
   ]
  },
  {
   "cell_type": "code",
   "execution_count": null,
   "id": "continuing-thread",
   "metadata": {},
   "outputs": [],
   "source": []
  }
 ],
 "metadata": {
  "kernelspec": {
   "display_name": "Python 3",
   "language": "python",
   "name": "python3"
  },
  "language_info": {
   "codemirror_mode": {
    "name": "ipython",
    "version": 3
   },
   "file_extension": ".py",
   "mimetype": "text/x-python",
   "name": "python",
   "nbconvert_exporter": "python",
   "pygments_lexer": "ipython3",
   "version": "3.9.2"
  }
 },
 "nbformat": 4,
 "nbformat_minor": 5
}
