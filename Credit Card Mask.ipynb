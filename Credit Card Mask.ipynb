{
 "cells": [
  {
   "cell_type": "markdown",
   "id": "illegal-basis",
   "metadata": {},
   "source": [
    "## Credit Card Mask <7kyu>\n",
    "[Exercise](https://www.codewars.com/kata/5412509bd436bd33920011bc/train/python)"
   ]
  },
  {
   "cell_type": "markdown",
   "id": "caroline-devon",
   "metadata": {},
   "source": [
    "Usually when you buy something, you're asked whether your credit card number, phone number or answer to your most secret question is still correct. However, since someone could look over your shoulder, you don't want that shown on your screen. Instead, we mask it.\n",
    "\n",
    "Your task is to write a function maskify, which changes all but the last four characters into '#'.\n",
    "Examples:\n",
    "\n",
    "\n",
    "- maskify(\"4556364607935616\") == \"############5616\"\n",
    "- maskify(     \"64607935616\") ==      \"#######5616\"\n",
    "- maskify(               \"1\") ==                \"1\"\n",
    "- maskify(                \"\") ==                 \"\"\n",
    "\n",
    "#### \"What was the name of your first pet?\"\n",
    "- maskify(\"Skippy\")                                   == \"##ippy\"\n",
    "- maskify(\"Nananananananananananananananana Batman!\") == \"####################################man!\"\n",
    "\n"
   ]
  },
  {
   "cell_type": "markdown",
   "id": "impressed-apparel",
   "metadata": {},
   "source": [
    "# return masked string\n",
    "def maskify(cc):\n",
    "    new = []\n",
    "    for i in cc:\n",
    "        if i not in cc[:-4]:\n",
    "            new.append(i)\n",
    "        else:\n",
    "            new.append(\"#\")\n",
    "    return \"\".join(new)"
   ]
  },
  {
   "cell_type": "code",
   "execution_count": 3,
   "id": "blind-parcel",
   "metadata": {},
   "outputs": [],
   "source": [
    "def maskify(cc):\n",
    "    first = cc[:-4]\n",
    "    last = cc[-4:] \n",
    "    new = []\n",
    "    for i in first:\n",
    "        new.append(\"#\")\n",
    "    new.append(last)\n",
    "    return \"\".join(new)\n"
   ]
  },
  {
   "cell_type": "code",
   "execution_count": 4,
   "id": "central-torture",
   "metadata": {},
   "outputs": [
    {
     "data": {
      "text/plain": [
       "'########d2eA'"
      ]
     },
     "execution_count": 4,
     "metadata": {},
     "output_type": "execute_result"
    }
   ],
   "source": [
    "maskify(\"SF$SDfgsd2eA\")"
   ]
  },
  {
   "cell_type": "code",
   "execution_count": null,
   "id": "extended-platform",
   "metadata": {},
   "outputs": [],
   "source": []
  }
 ],
 "metadata": {
  "kernelspec": {
   "display_name": "Python 3",
   "language": "python",
   "name": "python3"
  },
  "language_info": {
   "codemirror_mode": {
    "name": "ipython",
    "version": 3
   },
   "file_extension": ".py",
   "mimetype": "text/x-python",
   "name": "python",
   "nbconvert_exporter": "python",
   "pygments_lexer": "ipython3",
   "version": "3.9.2"
  }
 },
 "nbformat": 4,
 "nbformat_minor": 5
}
