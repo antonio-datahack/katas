{
 "cells": [
  {
   "cell_type": "markdown",
   "id": "adaptive-terry",
   "metadata": {},
   "source": [
    "### Disemvowel Trolls\n",
    "[Website of the excercise](https://www.codewars.com/kata/52fba66badcd10859f00097e/train/python)"
   ]
  },
  {
   "cell_type": "markdown",
   "id": "ready-surface",
   "metadata": {},
   "source": [
    "Trolls are attacking your comment section!\n",
    "\n",
    "A common way to deal with this situation is to remove all of the vowels from the trolls' comments, neutralizing the threat.\n",
    "\n",
    "Your task is to write a function that takes a string and return a new string with all vowels removed.\n",
    "\n",
    "For example, the string \"This website is for losers LOL!\" would become \"Ths wbst s fr lsrs LL!\".\n",
    "\n",
    "Note: for this kata y isn't considered a vowel."
   ]
  },
  {
   "cell_type": "code",
   "execution_count": 8,
   "id": "charming-examination",
   "metadata": {},
   "outputs": [],
   "source": [
    "def disemvowel(string):\n",
    "    vowels = ['a','A','e','E','i','I','o','O','u','U']\n",
    "    new_list = []\n",
    "    for letter in string:\n",
    "        if letter not in vowels:\n",
    "            new_list.append(letter)\n",
    "    return \"\".join(new_list)"
   ]
  },
  {
   "cell_type": "code",
   "execution_count": 9,
   "id": "opening-princeton",
   "metadata": {},
   "outputs": [
    {
     "data": {
      "text/plain": [
       "'Ths wbst s fr lsrs LL!'"
      ]
     },
     "execution_count": 9,
     "metadata": {},
     "output_type": "execute_result"
    }
   ],
   "source": [
    "# should return \"Ths wbst s fr lsrs LL!\"\n",
    "disemvowel(\"This website is for losers LOL!\")"
   ]
  },
  {
   "cell_type": "markdown",
   "id": "drawn-indian",
   "metadata": {},
   "source": [
    "[another solutions](https://www.codewars.com/kata/52fba66badcd10859f00097e/solutions/python)"
   ]
  },
  {
   "cell_type": "code",
   "execution_count": null,
   "id": "auburn-picture",
   "metadata": {},
   "outputs": [],
   "source": []
  },
  {
   "cell_type": "code",
   "execution_count": null,
   "id": "overall-burning",
   "metadata": {},
   "outputs": [],
   "source": []
  }
 ],
 "metadata": {
  "kernelspec": {
   "display_name": "Python 3",
   "language": "python",
   "name": "python3"
  },
  "language_info": {
   "codemirror_mode": {
    "name": "ipython",
    "version": 3
   },
   "file_extension": ".py",
   "mimetype": "text/x-python",
   "name": "python",
   "nbconvert_exporter": "python",
   "pygments_lexer": "ipython3",
   "version": "3.9.2"
  }
 },
 "nbformat": 4,
 "nbformat_minor": 5
}
